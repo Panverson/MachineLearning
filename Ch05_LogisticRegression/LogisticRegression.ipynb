{
 "cells": [
  {
   "cell_type": "code",
   "execution_count": 1,
   "metadata": {},
   "outputs": [],
   "source": [
    "import numpy as np\n",
    "import matplotlib.pyplot as plt"
   ]
  },
  {
   "cell_type": "code",
   "execution_count": 2,
   "metadata": {},
   "outputs": [],
   "source": [
    "test_data_path = '../dataset/testSet.txt'"
   ]
  },
  {
   "cell_type": "code",
   "execution_count": 3,
   "metadata": {},
   "outputs": [
    {
     "name": "stdout",
     "output_type": "stream",
     "text": [
      "[[-1.7612000e-02  1.4053064e+01]\n",
      " [-1.3956340e+00  4.6625410e+00]\n",
      " [-7.5215700e-01  6.5386200e+00]\n",
      " [-1.3223710e+00  7.1528530e+00]\n",
      " [ 4.2336300e-01  1.1054677e+01]\n",
      " [ 4.0670400e-01  7.0673350e+00]\n",
      " [ 6.6739400e-01  1.2741452e+01]\n",
      " [-2.4601500e+00  6.8668050e+00]\n",
      " [ 5.6941100e-01  9.5487550e+00]\n",
      " [-2.6632000e-02  1.0427743e+01]\n",
      " [ 8.5043300e-01  6.9203340e+00]\n",
      " [ 1.3471830e+00  1.3175500e+01]\n",
      " [ 1.1768130e+00  3.1670200e+00]\n",
      " [-1.7818710e+00  9.0979530e+00]\n",
      " [-5.6660600e-01  5.7490030e+00]\n",
      " [ 9.3163500e-01  1.5895050e+00]\n",
      " [-2.4205000e-02  6.1518230e+00]\n",
      " [-3.6453000e-02  2.6909880e+00]\n",
      " [-1.9694900e-01  4.4416500e-01]\n",
      " [ 1.0144590e+00  5.7543990e+00]\n",
      " [ 1.9852980e+00  3.2306190e+00]\n",
      " [-1.6934530e+00 -5.5754000e-01]\n",
      " [-5.7652500e-01  1.1778922e+01]\n",
      " [-3.4681100e-01 -1.6787300e+00]\n",
      " [-2.1244840e+00  2.6724710e+00]\n",
      " [ 1.2179160e+00  9.5970150e+00]\n",
      " [-7.3392800e-01  9.0986870e+00]\n",
      " [-3.6420010e+00 -1.6180870e+00]\n",
      " [ 3.1598500e-01  3.5239530e+00]\n",
      " [ 1.4166140e+00  9.6192320e+00]\n",
      " [-3.8632300e-01  3.9892860e+00]\n",
      " [ 5.5692100e-01  8.2949840e+00]\n",
      " [ 1.2248630e+00  1.1587360e+01]\n",
      " [-1.3478030e+00 -2.4060510e+00]\n",
      " [ 1.1966040e+00  4.9518510e+00]\n",
      " [ 2.7522100e-01  9.5436470e+00]\n",
      " [ 4.7057500e-01  9.3324880e+00]\n",
      " [-1.8895670e+00  9.5426620e+00]\n",
      " [-1.5278930e+00  1.2150579e+01]\n",
      " [-1.1852470e+00  1.1309318e+01]\n",
      " [-4.4567800e-01  3.2973030e+00]\n",
      " [ 1.0422220e+00  6.1051550e+00]\n",
      " [-6.1878700e-01  1.0320986e+01]\n",
      " [ 1.1520830e+00  5.4846700e-01]\n",
      " [ 8.2853400e-01  2.6760450e+00]\n",
      " [-1.2377280e+00  1.0549033e+01]\n",
      " [-6.8356500e-01 -2.1661250e+00]\n",
      " [ 2.2945600e-01  5.9219380e+00]\n",
      " [-9.5988500e-01  1.1555336e+01]\n",
      " [ 4.9291100e-01  1.0993324e+01]\n",
      " [ 1.8499200e-01  8.7214880e+00]\n",
      " [-3.5571500e-01  1.0325976e+01]\n",
      " [-3.9782200e-01  8.0583970e+00]\n",
      " [ 8.2483900e-01  1.3730343e+01]\n",
      " [ 1.5072780e+00  5.0278660e+00]\n",
      " [ 9.9671000e-02  6.8358390e+00]\n",
      " [-3.4400800e-01  1.0717485e+01]\n",
      " [ 1.7859280e+00  7.7186450e+00]\n",
      " [-9.1880100e-01  1.1560217e+01]\n",
      " [-3.6400900e-01  4.7473000e+00]\n",
      " [-8.4172200e-01  4.1190830e+00]\n",
      " [ 4.9042600e-01  1.9605390e+00]\n",
      " [-7.1940000e-03  9.0757920e+00]\n",
      " [ 3.5610700e-01  1.2447863e+01]\n",
      " [ 3.4257800e-01  1.2281162e+01]\n",
      " [-8.1082300e-01 -1.4660180e+00]\n",
      " [ 2.5307770e+00  6.4768010e+00]\n",
      " [ 1.2966830e+00  1.1607559e+01]\n",
      " [ 4.7548700e-01  1.2040035e+01]\n",
      " [-7.8327700e-01  1.1009725e+01]\n",
      " [ 7.4798000e-02  1.1023650e+01]\n",
      " [-1.3374720e+00  4.6833900e-01]\n",
      " [-1.0278100e-01  1.3763651e+01]\n",
      " [-1.4732400e-01  2.8748460e+00]\n",
      " [ 5.1838900e-01  9.8870350e+00]\n",
      " [ 1.0153990e+00  7.5718820e+00]\n",
      " [-1.6580860e+00 -2.7255000e-02]\n",
      " [ 1.3199440e+00  2.1712280e+00]\n",
      " [ 2.0562160e+00  5.0199810e+00]\n",
      " [-8.5163300e-01  4.3756910e+00]\n",
      " [-1.5100470e+00  6.0619920e+00]\n",
      " [-1.0766370e+00 -3.1818880e+00]\n",
      " [ 1.8210960e+00  1.0283990e+01]\n",
      " [ 3.0101500e+00  8.4017660e+00]\n",
      " [-1.0994580e+00  1.6882740e+00]\n",
      " [-8.3487200e-01 -1.7338690e+00]\n",
      " [-8.4663700e-01  3.8490750e+00]\n",
      " [ 1.4001020e+00  1.2628781e+01]\n",
      " [ 1.7528420e+00  5.4681660e+00]\n",
      " [ 7.8557000e-02  5.9736000e-02]\n",
      " [ 8.9392000e-02 -7.1530000e-01]\n",
      " [ 1.8256620e+00  1.2693808e+01]\n",
      " [ 1.9744500e-01  9.7446380e+00]\n",
      " [ 1.2611700e-01  9.2231100e-01]\n",
      " [-6.7979700e-01  1.2205300e+00]\n",
      " [ 6.7798300e-01  2.5566660e+00]\n",
      " [ 7.6134900e-01  1.0693862e+01]\n",
      " [-2.1687910e+00  1.4363200e-01]\n",
      " [ 1.3886100e+00  9.3419970e+00]\n",
      " [ 3.1702900e-01  1.4739025e+01]]\n",
      "[0, 1, 0, 0, 0, 1, 0, 1, 0, 0, 1, 0, 1, 0, 1, 1, 1, 1, 1, 1, 1, 1, 0, 1, 1, 0, 0, 1, 1, 0, 1, 1, 0, 1, 1, 0, 0, 0, 0, 0, 1, 1, 0, 1, 1, 0, 1, 1, 0, 0, 0, 0, 0, 0, 1, 1, 0, 1, 0, 1, 1, 1, 0, 0, 0, 1, 1, 0, 0, 0, 0, 1, 0, 1, 0, 0, 1, 1, 1, 1, 0, 1, 0, 1, 1, 1, 1, 0, 1, 1, 1, 0, 0, 1, 1, 1, 0, 1, 0, 0]\n"
     ]
    }
   ],
   "source": [
    "with open(test_data_path) as f:\n",
    "    data_mat = []\n",
    "    labels = []\n",
    "    for line in f.readlines():\n",
    "        line = line.strip().split()\n",
    "        data_mat.append([float(line[0]), float(line[1])])\n",
    "        labels.append(int(line[2]))\n",
    "    data_arr = np.array(data_mat)\n",
    "    \n",
    "print(data_arr)\n",
    "print(labels)"
   ]
  },
  {
   "cell_type": "code",
   "execution_count": 4,
   "metadata": {},
   "outputs": [
    {
     "name": "stdout",
     "output_type": "stream",
     "text": [
      "[-0.017612 -0.752157 -1.322371  0.423363  0.667394  0.569411 -0.026632\n",
      "  1.347183 -1.781871 -0.576525  1.217916 -0.733928  1.416614  1.224863\n",
      "  0.275221  0.470575 -1.889567 -1.527893 -1.185247 -0.618787 -1.237728\n",
      " -0.959885  0.492911  0.184992 -0.355715 -0.397822  0.824839 -0.344008\n",
      " -0.918801 -0.007194  0.356107  0.342578  1.296683  0.475487 -0.783277\n",
      "  0.074798 -0.102781  0.518389  1.015399 -1.510047  1.821096  1.400102\n",
      "  1.825662  0.197445  0.761349  1.38861   0.317029] [14.053064  6.53862   7.152853 11.054677 12.741452  9.548755 10.427743\n",
      " 13.1755    9.097953 11.778922  9.597015  9.098687  9.619232 11.58736\n",
      "  9.543647  9.332488  9.542662 12.150579 11.309318 10.320986 10.549033\n",
      " 11.555336 10.993324  8.721488 10.325976  8.058397 13.730343 10.717485\n",
      " 11.560217  9.075792 12.447863 12.281162 11.607559 12.040035 11.009725\n",
      " 11.02365  13.763651  9.887035  7.571882  6.061992 10.28399  12.628781\n",
      " 12.693808  9.744638 10.693862  9.341997 14.739025]\n"
     ]
    }
   ],
   "source": [
    "x_0 = np.array([])\n",
    "x_1 = np.array([])\n",
    "y_0 = np.array([])\n",
    "y_1 = np.array([])\n",
    "\n",
    "for i in range(len(labels)):\n",
    "    if labels[i] == 0:\n",
    "        x_0 = np.append(x_0, data_arr[i, 0])\n",
    "        y_0 = np.append(y_0, data_arr[i, 1])\n",
    "    else:\n",
    "        x_1 = np.append(x_1, data_arr[i, 0])\n",
    "        y_1 = np.append(y_1, data_arr[i, 1])\n",
    "        \n",
    "print(x_0, y_0)"
   ]
  },
  {
   "cell_type": "code",
   "execution_count": 5,
   "metadata": {},
   "outputs": [
    {
     "data": {
      "image/png": "[encoded data removed]",
      "text/plain": [
       "<Figure size 432x288 with 1 Axes>"
      ]
     },
     "metadata": {
      "needs_background": "light"
     },
     "output_type": "display_data"
    }
   ],
   "source": [
    "plt.scatter(x_0, y_0, s=30, c='red')\n",
    "plt.scatter(x_1, y_1, s=30, c='blue')\n",
    "plt.show()"
   ]
  },
  {
   "cell_type": "code",
   "execution_count": 6,
   "metadata": {},
   "outputs": [],
   "source": [
    "def sigmoid(x):\n",
    "    return 1/(1+np.exp(-x))"
   ]
  },
  {
   "cell_type": "code",
   "execution_count": 7,
   "metadata": {},
   "outputs": [
    {
     "name": "stdout",
     "output_type": "stream",
     "text": [
      "(1, 100)\n",
      "(100, 1)\n",
      "(100, 1)\n"
     ]
    }
   ],
   "source": [
    "labels = np.mat(labels)\n",
    "print(labels.shape)\n",
    "print(labels.transpose().shape)\n",
    "print(labels.T.shape)"
   ]
  },
  {
   "cell_type": "code",
   "execution_count": 8,
   "metadata": {},
   "outputs": [
    {
     "name": "stdout",
     "output_type": "stream",
     "text": [
      "(100, 2)\n",
      "(100, 2)\n"
     ]
    }
   ],
   "source": [
    "print(data_arr.shape)\n",
    "print(np.mat(data_arr).shape)"
   ]
  },
  {
   "cell_type": "markdown",
   "metadata": {},
   "source": [
    "分割曲线：\n",
    "$y = w^T*x+b = w_1*x_1 + w_2*x_2 + w_3$"
   ]
  },
  {
   "cell_type": "code",
   "execution_count": 9,
   "metadata": {},
   "outputs": [],
   "source": [
    "def gradAscent(data, label, iters=500):\n",
    "    m,n = data.shape\n",
    "    data_mat = np.insert(data, 0, np.ones(1), axis=1)\n",
    "    # print(data_mat)\n",
    "    label_mat = np.mat(label).T \n",
    "    alpha = 0.001\n",
    "    weights = np.ones((n+1,1))\n",
    "    for i in range(iters):\n",
    "        h = sigmoid(np.dot(data_mat, weights))\n",
    "        error = label_mat - h\n",
    "        weights += alpha * data_mat.T * error\n",
    "    return weights"
   ]
  },
  {
   "cell_type": "code",
   "execution_count": 10,
   "metadata": {
    "scrolled": true
   },
   "outputs": [
    {
     "name": "stdout",
     "output_type": "stream",
     "text": [
      "[[ 4.12414349]\n",
      " [ 0.48007329]\n",
      " [-0.6168482 ]]\n"
     ]
    }
   ],
   "source": [
    "weights = gradAscent(data_arr, labels)\n",
    "print(weights)"
   ]
  },
  {
   "cell_type": "code",
   "execution_count": 11,
   "metadata": {},
   "outputs": [
    {
     "name": "stdout",
     "output_type": "stream",
     "text": [
      "(60,)\n",
      "(60,)\n"
     ]
    },
    {
     "data": {
      "image/png": "[encoded data removed]",
      "text/plain": [
       "<Figure size 432x288 with 1 Axes>"
      ]
     },
     "metadata": {
      "needs_background": "light"
     },
     "output_type": "display_data"
    }
   ],
   "source": [
    "plt.scatter(x_0, y_0, s=30, c='red')\n",
    "plt.scatter(x_1, y_1, s=30, c='blue')\n",
    "x = np.arange(-3, 3, 0.1)\n",
    "y = (-weights[0]-weights[1] * x )/weights[2]\n",
    "print(x.shape)\n",
    "print(y.shape)\n",
    "plt.plot(x, y)\n",
    "plt.show()"
   ]
  },
  {
   "cell_type": "code",
   "execution_count": 12,
   "metadata": {},
   "outputs": [],
   "source": [
    "# 随机梯度上升\n",
    "def stocGradAscent(data, label, iters=100):\n",
    "    label = np.array(label).flatten()\n",
    "    data_mat = np.insert(data, 0, np.ones(1), axis=1)\n",
    "    m, n = data_mat.shape\n",
    "    weights = np.ones(n) #(n, 1)\n",
    "    weights_list = np.zeros((m*100, 3))\n",
    "    for j in range(iters):\n",
    "        data_index = list(range(m))\n",
    "        for i in range(m):\n",
    "            alpha = 4/(1.0+j+i) + 0.01\n",
    "            index = np.random.choice(data_index)\n",
    "            h = sigmoid(np.sum(data_mat[index]*weights))\n",
    "            error = label[index] - h\n",
    "            weights += alpha * error * data_mat[index]\n",
    "            weights_list[i+j*m] = weights\n",
    "            data_index.remove(index)\n",
    "    x = np.arange(0,4000)\n",
    "    plt.figure(figsize=(15, 5))\n",
    "    plt.plot(x, weights_list[:4000,0], label = 'x0')\n",
    "    plt.plot(x, weights_list[:4000,1], label = 'x1')\n",
    "    plt.plot(x, weights_list[:4000,2], label = 'x2')\n",
    "    plt.show()\n",
    "    return weights"
   ]
  },
  {
   "cell_type": "code",
   "execution_count": 13,
   "metadata": {
    "scrolled": true
   },
   "outputs": [
    {
     "data": {
      "image/png": "[encoded data removed]",
      "text/plain": [
       "<Figure size 1080x360 with 1 Axes>"
      ]
     },
     "metadata": {
      "needs_background": "light"
     },
     "output_type": "display_data"
    },
    {
     "name": "stdout",
     "output_type": "stream",
     "text": [
      "[13.37309125  1.19939947 -1.85886429]\n"
     ]
    }
   ],
   "source": [
    "weights_1 = stocGradAscent(data_arr, labels, 100)\n",
    "print(weights_1)"
   ]
  },
  {
   "cell_type": "code",
   "execution_count": 14,
   "metadata": {},
   "outputs": [
    {
     "data": {
      "image/png": "[encoded data removed]",
      "text/plain": [
       "<Figure size 432x288 with 1 Axes>"
      ]
     },
     "metadata": {
      "needs_background": "light"
     },
     "output_type": "display_data"
    }
   ],
   "source": [
    "plt.scatter(x_0, y_0, s=30, c='red')\n",
    "plt.scatter(x_1, y_1, s=30, c='blue')\n",
    "x = np.arange(-3, 3, 0.1)\n",
    "y = (-weights_1[0]-weights_1[1] * x )/weights_1[2]\n",
    "plt.plot(x, y)\n",
    "plt.show()"
   ]
  },
  {
   "cell_type": "code",
   "execution_count": 15,
   "metadata": {},
   "outputs": [
    {
     "name": "stdout",
     "output_type": "stream",
     "text": [
      "[0, 1, 2, 3, 4, 5, 6, 7, 8, 9, 10, 11, 12, 13, 14, 15, 16, 17, 18, 19, 20, 21, 22, 23, 24, 25, 26, 27, 28, 29, 30, 31, 32, 33, 34, 35, 36, 37, 38, 39, 40, 41, 42, 43, 44, 45, 46, 47, 48, 49, 50, 51, 52, 53, 54, 55, 56, 57, 58, 59, 60, 61, 62, 63, 64, 65, 66, 67, 68, 69, 70, 71, 72, 73, 74, 75, 76, 77, 78, 79, 80, 81, 82, 83, 84, 85, 86, 87, 88, 89, 90, 91, 92, 93, 94, 95, 96, 97, 98, 99]\n"
     ]
    }
   ],
   "source": [
    "l = list(range(100))\n",
    "print(l)"
   ]
  },
  {
   "cell_type": "code",
   "execution_count": null,
   "metadata": {},
   "outputs": [],
   "source": []
  }
 ],
 "metadata": {
  "kernelspec": {
   "display_name": "Python 3",
   "language": "python",
   "name": "python3"
  },
  "language_info": {
   "codemirror_mode": {
    "name": "ipython",
    "version": 3
   },
   "file_extension": ".py",
   "mimetype": "text/x-python",
   "name": "python",
   "nbconvert_exporter": "python",
   "pygments_lexer": "ipython3",
   "version": "3.7.0"
  }
 },
 "nbformat": 4,
 "nbformat_minor": 2
}
