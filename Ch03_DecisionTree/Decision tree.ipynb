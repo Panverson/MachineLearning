{
 "cells": [
  {
   "cell_type": "markdown",
   "metadata": {},
   "source": [
    "\n",
    "### 1. Definition\n",
    "熵：$H = -p(x)\\sum\\log_2p(x)$\n",
    "\n",
    "条件熵：$H(Y|X)=\\sum^n_{i=1}p_iH(Y|X=x_i)$\n",
    "\n",
    "信息增益：$g(D, A) = H(D) - H(D|A)$（互信息)，其中，"
   ]
  },
  {
   "cell_type": "code",
   "execution_count": 1,
   "metadata": {},
   "outputs": [],
   "source": [
    "import math"
   ]
  },
  {
   "cell_type": "code",
   "execution_count": 2,
   "metadata": {},
   "outputs": [],
   "source": [
    "def getEntropy(data):\n",
    "    size = len(data)\n",
    "    label_count = {}\n",
    "    for feature in data:\n",
    "        cur_label = feature[-1]\n",
    "        if cur_label not in label_count.keys():\n",
    "            label_count[cur_label] = 0\n",
    "        label_count[cur_label] += 1\n",
    "    # print(label_count)\n",
    "    entropy = 0\n",
    "    for key in label_count:\n",
    "        p = float(label_count[key])/size\n",
    "        # print(\"key: \", key, \"prob: \",p)\n",
    "        entropy -= p * math.log(p, 2)\n",
    "    return entropy"
   ]
  },
  {
   "cell_type": "code",
   "execution_count": 3,
   "metadata": {},
   "outputs": [
    {
     "name": "stdout",
     "output_type": "stream",
     "text": [
      "0.9709505944546686\n"
     ]
    }
   ],
   "source": [
    "data = [[1,1,'yes'], [1, 1, 'yes'], [1, 0, 'no'], [0, 1, 'no'], [0, 1, 'no']]\n",
    "labels = ['no surfacing', 'flippers']\n",
    "print(getEntropy(data))"
   ]
  },
  {
   "cell_type": "code",
   "execution_count": 4,
   "metadata": {},
   "outputs": [],
   "source": [
    "def splitData(data, axis, value):\n",
    "    res = []\n",
    "    for feature in data:\n",
    "        if feature[axis] == value:\n",
    "            reduced_feature = feature[:axis]\n",
    "            reduced_feature.extend(feature[axis+1:])\n",
    "            res.append(reduced_feature)\n",
    "    return res"
   ]
  },
  {
   "cell_type": "code",
   "execution_count": 5,
   "metadata": {
    "scrolled": true
   },
   "outputs": [
    {
     "name": "stdout",
     "output_type": "stream",
     "text": [
      "[[1, 'yes'], [1, 'yes'], [0, 'no']]\n"
     ]
    }
   ],
   "source": [
    "print(splitData(data, 0, 1))"
   ]
  },
  {
   "cell_type": "code",
   "execution_count": 6,
   "metadata": {},
   "outputs": [],
   "source": [
    "# def conEntropy(data, axis, value): # 计算条件经验熵\n",
    "#     for i in data:\n",
    "         \n",
    "            "
   ]
  },
  {
   "cell_type": "code",
   "execution_count": 7,
   "metadata": {},
   "outputs": [],
   "source": [
    "'''\n",
    "事实上，H(D)是一定的，根据信息增益公式：\n",
    "g(D, A) = H(D) - H(D|A)\n",
    "要求出max(g(D, A))\n",
    "不需要计算信息增益，仅计算条件熵，并比较大小，选取条件熵较小的哪一个特征即可\n",
    "To Do:\n",
    " - 修改代码，完成上述优化\n",
    "'''\n",
    "def chooseFeature(data):\n",
    "    size = len(data[0]) - 1\n",
    "    base = getEntropy(data)\n",
    "    g_max = 0.0\n",
    "    res = -1\n",
    "    for i in range(size): # choose different axis as feature\n",
    "        # print(i)\n",
    "        feature_list = [example[i] for example in data]\n",
    "        unique_val = set(feature_list)\n",
    "        # print(unique_val)\n",
    "        new_ent = 0\n",
    "        for value in unique_val: # H = -plog(p) - (1-p)log(1-p)\n",
    "            sub_data = splitData(data, i, value)\n",
    "            p = len(sub_data)/float(len(data))\n",
    "            new_ent += p * getEntropy(sub_data)\n",
    "        g = base - new_ent\n",
    "        if g > g_max:\n",
    "            g_max = g\n",
    "            res = i\n",
    "    return res"
   ]
  },
  {
   "cell_type": "code",
   "execution_count": 8,
   "metadata": {},
   "outputs": [
    {
     "name": "stdout",
     "output_type": "stream",
     "text": [
      "0\n"
     ]
    }
   ],
   "source": [
    "print(chooseFeature(data))"
   ]
  },
  {
   "cell_type": "code",
   "execution_count": 9,
   "metadata": {},
   "outputs": [],
   "source": [
    "def mostClass(class_list):\n",
    "    return max(class_list, key = class_list.count)"
   ]
  },
  {
   "cell_type": "code",
   "execution_count": 10,
   "metadata": {},
   "outputs": [
    {
     "name": "stdout",
     "output_type": "stream",
     "text": [
      "4\n"
     ]
    }
   ],
   "source": [
    "l = [1,1,3,3,4,4,4,2]\n",
    "print(mostClass(l))"
   ]
  },
  {
   "cell_type": "code",
   "execution_count": 11,
   "metadata": {},
   "outputs": [],
   "source": [
    "def createTree(data, labels):\n",
    "    class_list = [example[-1] for example in data]\n",
    "    if class_list.count(class_list[0]) == len(class_list): # 只有一种类别\n",
    "        return class_list[0]\n",
    "    if len(data[0]) == 1: # 只有一个特征\n",
    "        return mostClass(class_list)\n",
    "    feature = chooseFeature(data)\n",
    "    feature_label = labels[feature]\n",
    "    my_tree = {feature_label: {}}\n",
    "    del(labels[feature])\n",
    "    feature_vals = [example[feature] for example in data]\n",
    "    unique_vals = set(feature_vals)\n",
    "    for val in unique_vals:\n",
    "        sub_labels = labels[:]\n",
    "        my_tree[feature_label][val] = createTree(splitData(data, feature, val), sub_labels)\n",
    "    return my_tree"
   ]
  },
  {
   "cell_type": "code",
   "execution_count": 12,
   "metadata": {},
   "outputs": [
    {
     "name": "stdout",
     "output_type": "stream",
     "text": [
      "{'no surfacing': {0: 'no', 1: {'flippers': {0: 'no', 1: 'yes'}}}}\n"
     ]
    }
   ],
   "source": [
    "my_tree = createTree(data, labels)\n",
    "print(my_tree)"
   ]
  },
  {
   "cell_type": "code",
   "execution_count": 13,
   "metadata": {},
   "outputs": [],
   "source": []
  },
  {
   "cell_type": "code",
   "execution_count": null,
   "metadata": {},
   "outputs": [],
   "source": []
  }
 ],
 "metadata": {
  "kernelspec": {
   "display_name": "Python 3",
   "language": "python",
   "name": "python3"
  },
  "language_info": {
   "codemirror_mode": {
    "name": "ipython",
    "version": 3
   },
   "file_extension": ".py",
   "mimetype": "text/x-python",
   "name": "python",
   "nbconvert_exporter": "python",
   "pygments_lexer": "ipython3",
   "version": "3.7.0"
  }
 },
 "nbformat": 4,
 "nbformat_minor": 2
}
